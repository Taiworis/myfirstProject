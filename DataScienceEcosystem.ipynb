{
 "cells": [
  {
   "cell_type": "markdown",
   "id": "2463a74f",
   "metadata": {},
   "source": [
    "<Data Science Tools and Ecosystem>"
   ]
  },
  {
   "cell_type": "markdown",
   "id": "41e1ec78",
   "metadata": {},
   "source": [
    "# Data Science Tools and Ecosystem"
   ]
  },
  {
   "cell_type": "markdown",
   "id": "e5ea4f22",
   "metadata": {},
   "source": [
    "*In this notebook, Data Science tools and Ecosystem are summarized.*"
   ]
  },
  {
   "cell_type": "markdown",
   "id": "328650e5",
   "metadata": {},
   "source": [
    "**Objectives:**\n",
    "\n",
    "+ List popular languages for Data Science\n",
    "\n",
    "+ List the common libraries used by Data Scienctists\n",
    "\n",
    "+ Create a table of Data Science tools"
   ]
  },
  {
   "cell_type": "markdown",
   "id": "ec33982b",
   "metadata": {},
   "source": [
    "*Some of the popular languages that Data Scientists use are:*\n",
    "\n",
    "+ Python\n",
    "\n",
    "+ R programming\n",
    "+ Julia\n",
    "+ SQL"
   ]
  },
  {
   "cell_type": "markdown",
   "id": "a901adb3",
   "metadata": {},
   "source": [
    "*Some of the commonly used libraries by Data Scientists include:*\n",
    " \n",
    " 1. Numpy\n",
    " \n",
    " 2. Pandas\n",
    " \n",
    " 3. Matplotlib"
   ]
  },
  {
   "cell_type": "markdown",
   "id": "8fe382da",
   "metadata": {},
   "source": [
    "|Data Science Tools|\n",
    "-----------------------------\n",
    "|Jupyter notebook|\n",
    "|RStudio|\n",
    "|Visual Studio Code|"
   ]
  },
  {
   "cell_type": "markdown",
   "id": "ba799e0b",
   "metadata": {},
   "source": [
    "### Below are a few examples of evaluating arithmetic expressions in python:"
   ]
  },
  {
   "cell_type": "code",
   "execution_count": 1,
   "id": "43db34f4",
   "metadata": {},
   "outputs": [
    {
     "data": {
      "text/plain": [
       "17"
      ]
     },
     "execution_count": 1,
     "metadata": {},
     "output_type": "execute_result"
    }
   ],
   "source": [
    "# This is a simple arithmetic to multiply and then add integers\n",
    "\n",
    "(3*4)+5"
   ]
  },
  {
   "cell_type": "code",
   "execution_count": 2,
   "id": "7ebdc813",
   "metadata": {},
   "outputs": [
    {
     "data": {
      "text/plain": [
       "3.3333333333333335"
      ]
     },
     "execution_count": 2,
     "metadata": {},
     "output_type": "execute_result"
    }
   ],
   "source": [
    "# This expression will convert 200 minutes to hours by dividing by 60:\n",
    "\n",
    "200/60"
   ]
  },
  {
   "cell_type": "markdown",
   "id": "0a8599c3",
   "metadata": {},
   "source": [
    "## Author:\n",
    "\n",
    "*Orimogunje Taiwo Daniel*"
   ]
  },
  {
   "cell_type": "code",
   "execution_count": null,
   "id": "38cdd2fd",
   "metadata": {},
   "outputs": [],
   "source": []
  }
 ],
 "metadata": {
  "kernelspec": {
   "display_name": "Python 3 (ipykernel)",
   "language": "python",
   "name": "python3"
  },
  "language_info": {
   "codemirror_mode": {
    "name": "ipython",
    "version": 3
   },
   "file_extension": ".py",
   "mimetype": "text/x-python",
   "name": "python",
   "nbconvert_exporter": "python",
   "pygments_lexer": "ipython3",
   "version": "3.11.4"
  }
 },
 "nbformat": 4,
 "nbformat_minor": 5
}
